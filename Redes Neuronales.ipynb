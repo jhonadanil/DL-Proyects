{
 "cells": [
  {
   "cell_type": "code",
   "execution_count": 10,
   "metadata": {},
   "outputs": [],
   "source": [
    "import numpy as np\n",
    "import pandas as pd\n",
    "import matplotlib.pyplot as plt\n",
    "import tensorflow as tf\n",
    "from tensorflow import keras"
   ]
  },
  {
   "cell_type": "markdown",
   "metadata": {},
   "source": [
    "## 1.- Analisis exploratorio de datos"
   ]
  },
  {
   "cell_type": "code",
   "execution_count": 11,
   "metadata": {},
   "outputs": [],
   "source": [
    "from keras.datasets import mnist\n",
    "(x_train, y_train), (x_test, y_test) = mnist.load_data()"
   ]
  },
  {
   "cell_type": "code",
   "execution_count": 12,
   "metadata": {},
   "outputs": [
    {
     "data": {
      "text/plain": [
       "(60000, 28, 28)"
      ]
     },
     "execution_count": 12,
     "metadata": {},
     "output_type": "execute_result"
    }
   ],
   "source": [
    "x_train.shape"
   ]
  },
  {
   "cell_type": "code",
   "execution_count": 13,
   "metadata": {},
   "outputs": [
    {
     "data": {
      "text/plain": [
       "<function matplotlib.pyplot.show(close=None, block=None)>"
      ]
     },
     "execution_count": 13,
     "metadata": {},
     "output_type": "execute_result"
    },
    {
     "data": {
      "image/png": "[encoded data removed]",
      "text/plain": [
       "<Figure size 2000x400 with 7 Axes>"
      ]
     },
     "metadata": {},
     "output_type": "display_data"
    }
   ],
   "source": [
    "plt.figure(figsize=(20, 4))\n",
    "\n",
    "for i, imag in enumerate(x_train[0: 7], start=1):\n",
    "    plt.subplot(1, 7, i)\n",
    "    plt.imshow(imag, cmap=plt.cm.gray)\n",
    "    plt.title('imagen ' + str(i))\n",
    "\n",
    "plt.show"
   ]
  },
  {
   "cell_type": "markdown",
   "metadata": {},
   "source": [
    "## 2.- Preprocesamiento de datos"
   ]
  },
  {
   "cell_type": "code",
   "execution_count": 14,
   "metadata": {},
   "outputs": [
    {
     "data": {
      "text/plain": [
       "(60000, 28, 28)"
      ]
     },
     "execution_count": 14,
     "metadata": {},
     "output_type": "execute_result"
    }
   ],
   "source": [
    "x_train.shape"
   ]
  },
  {
   "cell_type": "code",
   "execution_count": 15,
   "metadata": {},
   "outputs": [],
   "source": [
    "from sklearn.model_selection import train_test_split\n",
    "x_test, x_val, y_test, y_val = train_test_split(x_test, y_test, test_size=0.3, random_state=42)\n",
    "\n",
    "from tensorflow.keras.utils import to_categorical\n",
    "y_train = to_categorical(y_train, num_classes=10)\n",
    "y_val = to_categorical(y_val, num_classes=10)\n",
    "y_test = to_categorical(y_test, num_classes=10)\n",
    "\n",
    "x_train = x_train.astype('float32') / 255.0\n",
    "x_val = x_val.astype('float32') / 255.0\n",
    "x_test = x_test.astype('float32') / 255.0\n"
   ]
  },
  {
   "cell_type": "markdown",
   "metadata": {},
   "source": [
    "## 3.- Definicion de la arquitectura y busqueda de hiperparametros"
   ]
  },
  {
   "cell_type": "markdown",
   "metadata": {},
   "source": [
    "#### A.- Definimos el espacio de busqueda para el hipertuning"
   ]
  },
  {
   "cell_type": "code",
   "execution_count": 16,
   "metadata": {},
   "outputs": [],
   "source": [
    "from keras_tuner import Hyperband \n",
    "\n",
    "def model_builder(hp):\n",
    "    model = keras.Sequential()\n",
    "\n",
    "    model.add(keras.layers.Flatten(input_shape=(28, 28)))\n",
    "\n",
    "     # espacio de capas y neuronas optimos\n",
    "    for i in range(hp.Int('num_layers', min_value=1, max_value=5)):\n",
    "        model.add(keras.layers.Dense(\n",
    "        units=hp.Int('unit_' + str(i), min_value=32, max_value=160, step=32),\n",
    "        activation='relu'\n",
    "    ))\n",
    "\n",
    "    # capa de salida\n",
    "    model.add(keras.layers.Dense(10, activation='softmax'))\n",
    "\n",
    "    # compilacion del modelo\n",
    "    model.compile(\n",
    "        optimizer=keras.optimizers.Adam(learning_rate=hp.Choice('learning_rate', values=[1e-2, 1e-3, 1e-4])),\n",
    "        loss='categorical_crossentropy',\n",
    "        metrics=['accuracy']\n",
    "    )\n",
    "    return model\n"
   ]
  },
  {
   "cell_type": "markdown",
   "metadata": {},
   "source": [
    "#### B.- Configuracion de la busqueda hyperband"
   ]
  },
  {
   "cell_type": "code",
   "execution_count": 17,
   "metadata": {},
   "outputs": [
    {
     "name": "stdout",
     "output_type": "stream",
     "text": [
      "Reloading Tuner from dp_models/hyperband_tuning/tuner0.json\n"
     ]
    }
   ],
   "source": [
    "from keras_tuner import Hyperband\n",
    "\n",
    "# crear tuner\n",
    "tuner = Hyperband(\n",
    "    model_builder,\n",
    "    objective='val_accuracy',\n",
    "    max_epochs=50,\n",
    "    factor=3,\n",
    "    directory='dp_models',\n",
    "    project_name='hyperband_tuning'\n",
    ")"
   ]
  },
  {
   "cell_type": "markdown",
   "metadata": {},
   "source": [
    "#### C.- Iniciamos el hyperband"
   ]
  },
  {
   "cell_type": "code",
   "execution_count": null,
   "metadata": {},
   "outputs": [
    {
     "name": "stdout",
     "output_type": "stream",
     "text": [
      "\n",
      "Search: Running Trial #76\n",
      "\n",
      "Value             |Best Value So Far |Hyperparameter\n",
      "3                 |3                 |num_layers\n",
      "64                |416               |unit_0\n",
      "sigmoid           |sigmoid           |activacion\n",
      "0.01              |0.001             |learning_rate\n",
      "480               |224               |unit_1\n",
      "448               |64                |unit_2\n",
      "192               |32                |unit_3\n",
      "192               |288               |unit_4\n",
      "17                |17                |tuner/epochs\n",
      "0                 |6                 |tuner/initial_epoch\n",
      "1                 |2                 |tuner/bracket\n",
      "0                 |1                 |tuner/round\n",
      "\n",
      "Epoch 1/17\n",
      "1875/1875 [==============================] - 24s 12ms/step - loss: 0.3880 - accuracy: 0.8947 - val_loss: 0.3321 - val_accuracy: 0.9037\n",
      "Epoch 2/17\n",
      "1875/1875 [==============================] - 23s 12ms/step - loss: 0.2720 - accuracy: 0.9299 - val_loss: 0.3027 - val_accuracy: 0.9277\n",
      "Epoch 3/17\n",
      "1875/1875 [==============================] - 14s 8ms/step - loss: 0.2399 - accuracy: 0.9393 - val_loss: 0.2423 - val_accuracy: 0.9430\n",
      "Epoch 4/17\n",
      "1875/1875 [==============================] - 25s 13ms/step - loss: 0.2000 - accuracy: 0.9495 - val_loss: 0.2043 - val_accuracy: 0.9470\n",
      "Epoch 5/17\n",
      "1875/1875 [==============================] - 26s 14ms/step - loss: 0.2012 - accuracy: 0.9503 - val_loss: 0.2581 - val_accuracy: 0.9413\n",
      "Epoch 6/17\n",
      "1875/1875 [==============================] - 28s 15ms/step - loss: 0.1888 - accuracy: 0.9537 - val_loss: 0.2364 - val_accuracy: 0.9467\n",
      "Epoch 7/17\n",
      "1875/1875 [==============================] - 30s 16ms/step - loss: 0.1794 - accuracy: 0.9554 - val_loss: 0.2027 - val_accuracy: 0.9510\n",
      "Epoch 8/17\n",
      "1875/1875 [==============================] - 15s 8ms/step - loss: 0.1827 - accuracy: 0.9562 - val_loss: 0.2189 - val_accuracy: 0.9530\n",
      "Epoch 9/17\n",
      "1873/1875 [============================>.] - ETA: 0s - loss: 0.1717 - accuracy: 0.9590"
     ]
    }
   ],
   "source": [
    "tuner.search(x_train, y_train,\n",
    "             epochs=5,\n",
    "             validation_data=(x_val, y_val),\n",
    "             callbacks=[tf.keras.callbacks.EarlyStopping(patience=3)])\n",
    "\n",
    "best_hps = tuner.get_best_hyperparameters(num_trials=1)[0]\n",
    "\n",
    "print(f\"best hiden layers: {best_hps.get('num_layers')}\")\n",
    "print(f\"best units: {best_hps.get('units_0')}\")\n",
    "print(f\"best learning rate: {best_hps.get('learning_rate')}\")\n",
    " "
   ]
  },
  {
   "cell_type": "code",
   "execution_count": null,
   "metadata": {},
   "outputs": [],
   "source": [
    "best_model = tuner.hypermodel.build(best_hps)\n",
    "\n",
    "best_model.fit(x_train, y_train,\n",
    "               epocs= 12,\n",
    "               validation_data=(x_val, y_val),\n",
    "               callbacks=[tf.keras.callbacks.EarlyStopping(patience=3)])"
   ]
  },
  {
   "cell_type": "markdown",
   "metadata": {},
   "source": [
    "## 3.- Evaluacion"
   ]
  },
  {
   "cell_type": "code",
   "execution_count": null,
   "metadata": {},
   "outputs": [],
   "source": [
    "test_loos, test_acurracy = best_model.evaluate(x_test, y_test)\n",
    "print(f'acurracy de los datos de prueba {test_acurracy}')"
   ]
  },
  {
   "cell_type": "code",
   "execution_count": null,
   "metadata": {},
   "outputs": [],
   "source": [
    "history = best_model.history\n",
    "# Graficar precisión\n",
    "plt.plot(history.history['accuracy'], label='Precisión de entrenamiento')\n",
    "plt.plot(history.history['val_accuracy'], label='Precisión de validación')\n",
    "plt.xlabel('Épocas')\n",
    "plt.ylabel('Precisión')\n",
    "plt.legend()\n",
    "plt.title('Curva de precisión')\n",
    "plt.show()"
   ]
  }
 ],
 "metadata": {
  "kernelspec": {
   "display_name": "ml_env",
   "language": "python",
   "name": "python3"
  },
  "language_info": {
   "codemirror_mode": {
    "name": "ipython",
    "version": 3
   },
   "file_extension": ".py",
   "mimetype": "text/x-python",
   "name": "python",
   "nbconvert_exporter": "python",
   "pygments_lexer": "ipython3",
   "version": "3.9.18"
  }
 },
 "nbformat": 4,
 "nbformat_minor": 2
}
